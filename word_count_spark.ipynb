{
 "cells": [
  {
   "cell_type": "code",
   "execution_count": 1,
   "id": "d1966b06-cb61-4def-9c70-3d60801d9721",
   "metadata": {},
   "outputs": [],
   "source": [
    "import os"
   ]
  },
  {
   "cell_type": "code",
   "execution_count": 2,
   "id": "ff983c73-a665-4485-aeb4-72b919b0861c",
   "metadata": {},
   "outputs": [],
   "source": [
    "os.environ[\"PYSPARK_PYTHON\"] = \"C:/Users/Raghava/AppData/Local/Programs/Python/Python311/python.exe\"\n",
    "os.environ[\"PYSPARK_DRIVER_PYTHON\"] = \"C:/Users/Raghava/AppData/Local/Programs/Python/Python311/python.exe\""
   ]
  },
  {
   "cell_type": "code",
   "execution_count": 3,
   "id": "13a81ded-781c-4fa5-98da-da1c59adbc22",
   "metadata": {},
   "outputs": [],
   "source": [
    "from pyspark.sql import SparkSession"
   ]
  },
  {
   "cell_type": "code",
   "execution_count": 4,
   "id": "eef2d1e3-183f-4bbd-b093-e801674cad05",
   "metadata": {},
   "outputs": [],
   "source": [
    "spark = SparkSession.builder \\\n",
    "    .appName(\"RDD Operations Example\") \\\n",
    "    .getOrCreate()"
   ]
  },
  {
   "cell_type": "code",
   "execution_count": 5,
   "id": "6dcaf8f3-06d2-4941-8b15-7a9867e0fb56",
   "metadata": {},
   "outputs": [
    {
     "data": {
      "text/html": [
       "\n",
       "            <div>\n",
       "                <p><b>SparkSession - in-memory</b></p>\n",
       "                \n",
       "        <div>\n",
       "            <p><b>SparkContext</b></p>\n",
       "\n",
       "            <p><a href=\"http://DESKTOP-GUAGO32:4040\">Spark UI</a></p>\n",
       "\n",
       "            <dl>\n",
       "              <dt>Version</dt>\n",
       "                <dd><code>v3.5.1</code></dd>\n",
       "              <dt>Master</dt>\n",
       "                <dd><code>local[*]</code></dd>\n",
       "              <dt>AppName</dt>\n",
       "                <dd><code>RDD Operations Example</code></dd>\n",
       "            </dl>\n",
       "        </div>\n",
       "        \n",
       "            </div>\n",
       "        "
      ],
      "text/plain": [
       "<pyspark.sql.session.SparkSession at 0x14c714be2d0>"
      ]
     },
     "execution_count": 5,
     "metadata": {},
     "output_type": "execute_result"
    }
   ],
   "source": [
    "spark"
   ]
  },
  {
   "cell_type": "code",
   "execution_count": 6,
   "id": "3f86e2e5-0fba-4c47-90eb-9f6e3d72a1ff",
   "metadata": {},
   "outputs": [],
   "source": [
    "rdd1 = spark.sparkContext.textFile('inputfile.txt')"
   ]
  },
  {
   "cell_type": "code",
   "execution_count": 7,
   "id": "7ae2eb49-4210-41d6-88cc-e8b1305fe5c9",
   "metadata": {},
   "outputs": [],
   "source": [
    "rdd2 = rdd1.flatMap(lambda line : line.split(\" \"))"
   ]
  },
  {
   "cell_type": "code",
   "execution_count": 8,
   "id": "b5d46141-9134-44eb-be3b-99208b715140",
   "metadata": {},
   "outputs": [],
   "source": [
    "rdd3 = rdd2.map(lambda word : (word, 1))"
   ]
  },
  {
   "cell_type": "code",
   "execution_count": 9,
   "id": "eefb4ca8-e1c0-4032-94bd-5ef5593fa8a2",
   "metadata": {},
   "outputs": [
    {
     "data": {
      "text/plain": [
       "[('big', 1),\n",
       " ('data', 1),\n",
       " ('is', 1),\n",
       " ('very', 1),\n",
       " ('interesting', 1),\n",
       " ('big', 1),\n",
       " ('data', 1),\n",
       " ('is', 1),\n",
       " ('one', 1),\n",
       " ('of', 1),\n",
       " ('the', 1),\n",
       " ('most', 1),\n",
       " ('trending', 1),\n",
       " ('technology', 1),\n",
       " ('my', 1),\n",
       " ('name', 1),\n",
       " ('is', 1),\n",
       " ('raghavendra', 1),\n",
       " ('am', 1),\n",
       " ('learning', 1),\n",
       " ('big', 1),\n",
       " ('data', 1),\n",
       " ('I', 1),\n",
       " ('work', 1),\n",
       " ('for', 1),\n",
       " ('deloitte', 1)]"
      ]
     },
     "execution_count": 9,
     "metadata": {},
     "output_type": "execute_result"
    }
   ],
   "source": [
    "rdd3.collect()"
   ]
  },
  {
   "cell_type": "code",
   "execution_count": 12,
   "id": "66aa52f2-7b77-4075-80df-e7103ea391f8",
   "metadata": {},
   "outputs": [],
   "source": [
    "rdd4 = rdd3.reduceByKey(lambda x,y : x+y)"
   ]
  },
  {
   "cell_type": "code",
   "execution_count": 13,
   "id": "bdb22731-9492-4cdd-9f53-61b7cc34cb38",
   "metadata": {},
   "outputs": [
    {
     "data": {
      "text/plain": [
       "[('big', 3),\n",
       " ('of', 1),\n",
       " ('most', 1),\n",
       " ('trending', 1),\n",
       " ('technology', 1),\n",
       " ('name', 1),\n",
       " ('learning', 1),\n",
       " ('I', 1),\n",
       " ('work', 1),\n",
       " ('for', 1),\n",
       " ('data', 3),\n",
       " ('is', 3),\n",
       " ('very', 1),\n",
       " ('interesting', 1),\n",
       " ('one', 1),\n",
       " ('the', 1),\n",
       " ('my', 1),\n",
       " ('raghavendra', 1),\n",
       " ('am', 1),\n",
       " ('deloitte', 1)]"
      ]
     },
     "execution_count": 13,
     "metadata": {},
     "output_type": "execute_result"
    }
   ],
   "source": [
    "rdd4.collect()"
   ]
  },
  {
   "cell_type": "code",
   "execution_count": null,
   "id": "f2a3104b-bc53-4b1e-a4dc-9345891c4d01",
   "metadata": {},
   "outputs": [],
   "source": []
  }
 ],
 "metadata": {
  "kernelspec": {
   "display_name": "Python 3 (ipykernel)",
   "language": "python",
   "name": "python3"
  },
  "language_info": {
   "codemirror_mode": {
    "name": "ipython",
    "version": 3
   },
   "file_extension": ".py",
   "mimetype": "text/x-python",
   "name": "python",
   "nbconvert_exporter": "python",
   "pygments_lexer": "ipython3",
   "version": "3.11.9"
  }
 },
 "nbformat": 4,
 "nbformat_minor": 5
}
